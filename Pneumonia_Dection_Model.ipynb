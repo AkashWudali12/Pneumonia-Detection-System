{
 "cells": [
  {
   "cell_type": "code",
   "execution_count": 5,
   "id": "e692f771-120b-4378-bf19-15b941802756",
   "metadata": {},
   "outputs": [],
   "source": [
    "import tensorflow as tf\n",
    "\n",
    "from tensorflow.keras.applications import DenseNet169\n",
    "from tensorflow.keras.models import Model\n",
    "from tensorflow.keras.layers import GlobalAveragePooling2D\n",
    "\n",
    "from sklearn.svm import SVC\n",
    "import numpy as np\n",
    "\n",
    "import os\n",
    "\n",
    "import random\n",
    "\n",
    "def load_and_preprocess_image(path):\n",
    "    image = tf.io.read_file(path)\n",
    "    image = tf.image.decode_png(image, channels=3)\n",
    "    image = tf.image.resize(image, [224, 224])\n",
    "    image = tf.keras.applications.densenet.preprocess_input(image) # specific for DenseNet\n",
    "    return image\n",
    "\n",
    "def create_densenet_feature_extractor():\n",
    "    base_model = DenseNet169(weights='imagenet', include_top=False, input_shape=(224, 224, 3))\n",
    "    x = base_model.output\n",
    "    x = GlobalAveragePooling2D()(x) \n",
    "    feature_extractor = Model(inputs=base_model.input, outputs=x)\n",
    "    return feature_extractor\n",
    "    \n",
    "feature_extractor = create_densenet_feature_extractor()\n",
    "\n",
    "def extract_features(image_paths, y_lst):\n",
    "    features = []\n",
    "    for idx, path in enumerate(image_paths):\n",
    "        if not [file_type for file_type in [\"jpeg\", \"png\", \"gif\", \"bmp\"] if file_type in path]:\n",
    "            del y_lst[idx]\n",
    "        else:\n",
    "            image = load_and_preprocess_image(path)\n",
    "            image = np.expand_dims(image, axis=0)  \n",
    "            feature = feature_extractor.predict(image, verbose=0)\n",
    "            features.append(feature.flatten())\n",
    "    return np.array(features), np.array(y_lst)\n",
    "\n",
    "labels = [\"NORMAL\", \"PNEUMONIA\"]\n",
    "train_dir = \"chest_xray/chest_xray/train/\"\n",
    "train_dir_pneumonia = train_dir + \"PNEUMONIA/\"\n",
    "train_dir_normal = train_dir + \"NORMAL/\"\n",
    "\n",
    "test_dir = \"chest_xray/chest_xray/test/\"\n",
    "val_dir = \"chest_xray/chest_xray/val/\"\n",
    "\n",
    "normal_img_lst = [train_dir_normal + path_name for path_name in os.listdir(train_dir_normal)]\n",
    "pneumonia_img_lst = [train_dir_pneumonia + path_name for path_name in os.listdir(train_dir_pneumonia)]\n",
    "\n",
    "train_image_paths = normal_img_lst + pneumonia_img_lst\n",
    "y_lst = [0 for i in range(len(normal_img_lst))] + [1 for i in range(len(pneumonia_img_lst))]"
   ]
  },
  {
   "cell_type": "code",
   "execution_count": 6,
   "id": "b20d2e19-de54-41dc-ab28-30e798bdf2ca",
   "metadata": {},
   "outputs": [
    {
     "name": "stdout",
     "output_type": "stream",
     "text": [
      "Extracting Features...\n",
      "(5216, 1664) (5216,)\n"
     ]
    }
   ],
   "source": [
    "print(\"Extracting Features...\")\n",
    "X_train, y_train = extract_features(train_image_paths, y_lst)\n",
    "print(X_train.shape, y_train.shape)\n",
    "print(\"Extracted training data features successfully\")"
   ]
  },
  {
   "cell_type": "code",
   "execution_count": 7,
   "id": "9793e2d6-3dc1-432f-a45d-472aff0e3ebe",
   "metadata": {},
   "outputs": [
    {
     "data": {
      "text/html": [
       "<style>#sk-container-id-2 {color: black;}#sk-container-id-2 pre{padding: 0;}#sk-container-id-2 div.sk-toggleable {background-color: white;}#sk-container-id-2 label.sk-toggleable__label {cursor: pointer;display: block;width: 100%;margin-bottom: 0;padding: 0.3em;box-sizing: border-box;text-align: center;}#sk-container-id-2 label.sk-toggleable__label-arrow:before {content: \"▸\";float: left;margin-right: 0.25em;color: #696969;}#sk-container-id-2 label.sk-toggleable__label-arrow:hover:before {color: black;}#sk-container-id-2 div.sk-estimator:hover label.sk-toggleable__label-arrow:before {color: black;}#sk-container-id-2 div.sk-toggleable__content {max-height: 0;max-width: 0;overflow: hidden;text-align: left;background-color: #f0f8ff;}#sk-container-id-2 div.sk-toggleable__content pre {margin: 0.2em;color: black;border-radius: 0.25em;background-color: #f0f8ff;}#sk-container-id-2 input.sk-toggleable__control:checked~div.sk-toggleable__content {max-height: 200px;max-width: 100%;overflow: auto;}#sk-container-id-2 input.sk-toggleable__control:checked~label.sk-toggleable__label-arrow:before {content: \"▾\";}#sk-container-id-2 div.sk-estimator input.sk-toggleable__control:checked~label.sk-toggleable__label {background-color: #d4ebff;}#sk-container-id-2 div.sk-label input.sk-toggleable__control:checked~label.sk-toggleable__label {background-color: #d4ebff;}#sk-container-id-2 input.sk-hidden--visually {border: 0;clip: rect(1px 1px 1px 1px);clip: rect(1px, 1px, 1px, 1px);height: 1px;margin: -1px;overflow: hidden;padding: 0;position: absolute;width: 1px;}#sk-container-id-2 div.sk-estimator {font-family: monospace;background-color: #f0f8ff;border: 1px dotted black;border-radius: 0.25em;box-sizing: border-box;margin-bottom: 0.5em;}#sk-container-id-2 div.sk-estimator:hover {background-color: #d4ebff;}#sk-container-id-2 div.sk-parallel-item::after {content: \"\";width: 100%;border-bottom: 1px solid gray;flex-grow: 1;}#sk-container-id-2 div.sk-label:hover label.sk-toggleable__label {background-color: #d4ebff;}#sk-container-id-2 div.sk-serial::before {content: \"\";position: absolute;border-left: 1px solid gray;box-sizing: border-box;top: 0;bottom: 0;left: 50%;z-index: 0;}#sk-container-id-2 div.sk-serial {display: flex;flex-direction: column;align-items: center;background-color: white;padding-right: 0.2em;padding-left: 0.2em;position: relative;}#sk-container-id-2 div.sk-item {position: relative;z-index: 1;}#sk-container-id-2 div.sk-parallel {display: flex;align-items: stretch;justify-content: center;background-color: white;position: relative;}#sk-container-id-2 div.sk-item::before, #sk-container-id-2 div.sk-parallel-item::before {content: \"\";position: absolute;border-left: 1px solid gray;box-sizing: border-box;top: 0;bottom: 0;left: 50%;z-index: -1;}#sk-container-id-2 div.sk-parallel-item {display: flex;flex-direction: column;z-index: 1;position: relative;background-color: white;}#sk-container-id-2 div.sk-parallel-item:first-child::after {align-self: flex-end;width: 50%;}#sk-container-id-2 div.sk-parallel-item:last-child::after {align-self: flex-start;width: 50%;}#sk-container-id-2 div.sk-parallel-item:only-child::after {width: 0;}#sk-container-id-2 div.sk-dashed-wrapped {border: 1px dashed gray;margin: 0 0.4em 0.5em 0.4em;box-sizing: border-box;padding-bottom: 0.4em;background-color: white;}#sk-container-id-2 div.sk-label label {font-family: monospace;font-weight: bold;display: inline-block;line-height: 1.2em;}#sk-container-id-2 div.sk-label-container {text-align: center;}#sk-container-id-2 div.sk-container {/* jupyter's `normalize.less` sets `[hidden] { display: none; }` but bootstrap.min.css set `[hidden] { display: none !important; }` so we also need the `!important` here to be able to override the default hidden behavior on the sphinx rendered scikit-learn.org. See: https://github.com/scikit-learn/scikit-learn/issues/21755 */display: inline-block !important;position: relative;}#sk-container-id-2 div.sk-text-repr-fallback {display: none;}</style><div id=\"sk-container-id-2\" class=\"sk-top-container\"><div class=\"sk-text-repr-fallback\"><pre>SVC(kernel=&#x27;linear&#x27;, probability=True)</pre><b>In a Jupyter environment, please rerun this cell to show the HTML representation or trust the notebook. <br />On GitHub, the HTML representation is unable to render, please try loading this page with nbviewer.org.</b></div><div class=\"sk-container\" hidden><div class=\"sk-item\"><div class=\"sk-estimator sk-toggleable\"><input class=\"sk-toggleable__control sk-hidden--visually\" id=\"sk-estimator-id-2\" type=\"checkbox\" checked><label for=\"sk-estimator-id-2\" class=\"sk-toggleable__label sk-toggleable__label-arrow\">SVC</label><div class=\"sk-toggleable__content\"><pre>SVC(kernel=&#x27;linear&#x27;, probability=True)</pre></div></div></div></div></div>"
      ],
      "text/plain": [
       "SVC(kernel='linear', probability=True)"
      ]
     },
     "execution_count": 7,
     "metadata": {},
     "output_type": "execute_result"
    }
   ],
   "source": [
    "svm_classifier = SVC(kernel='linear', probability=True)\n",
    "svm_classifier.fit(X_train, y_train)\n",
    "print(\"Model trained successfully\")"
   ]
  },
  {
   "cell_type": "code",
   "execution_count": 8,
   "id": "79c5fca5-9e82-4809-a864-1f335a2404eb",
   "metadata": {},
   "outputs": [
    {
     "name": "stdout",
     "output_type": "stream",
     "text": [
      "Extracting Features...\n"
     ]
    }
   ],
   "source": [
    "test_normal_dir = test_dir + \"NORMAL/\"\n",
    "test_pneumonia_dir = test_dir + \"PNEUMONIA/\"\n",
    "\n",
    "normal_test_imgs = [test_normal_dir + path_name for path_name in os.listdir(test_normal_dir)]\n",
    "pneumonia_test_imgs = [test_pneumonia_dir + path_name for path_name in os.listdir(test_pneumonia_dir)]\n",
    "\n",
    "test_image_paths = normal_test_imgs + pneumonia_test_imgs\n",
    "test_labels = [0] * len(normal_test_imgs) + [1] * len(pneumonia_test_imgs)\n",
    "\n",
    "print(\"Extracting Features...\")\n",
    "X_test, y_test = extract_features(test_image_paths, test_labels)\n",
    "print(\"Extracted testing data features successfully\")"
   ]
  },
  {
   "cell_type": "code",
   "execution_count": 7,
   "id": "f7aec9fb-182e-43a2-b461-7ed6379f9cd3",
   "metadata": {},
   "outputs": [],
   "source": [
    "predicted_labels = svm_classifier.predict(X_test)"
   ]
  },
  {
   "cell_type": "code",
   "execution_count": 8,
   "id": "24534485-60a5-4eeb-8537-b3ad3da1fbfc",
   "metadata": {},
   "outputs": [
    {
     "name": "stdout",
     "output_type": "stream",
     "text": [
      "Accuracy: 0.80\n",
      "              precision    recall  f1-score   support\n",
      "\n",
      "      Normal       0.97      0.49      0.65       234\n",
      "   Pneumonia       0.76      0.99      0.86       390\n",
      "\n",
      "    accuracy                           0.80       624\n",
      "   macro avg       0.87      0.74      0.76       624\n",
      "weighted avg       0.84      0.80      0.78       624\n",
      "\n"
     ]
    }
   ],
   "source": [
    "from sklearn.metrics import accuracy_score, classification_report\n",
    "\n",
    "accuracy = accuracy_score(y_test, predicted_labels)\n",
    "print(f\"Accuracy: {accuracy:.2f}\")\n",
    "\n",
    "report = classification_report(y_test, predicted_labels, target_names=['Normal', 'Pneumonia'])\n",
    "print(report)"
   ]
  },
  {
   "cell_type": "code",
   "execution_count": 9,
   "id": "4867b75e-c613-46dd-ab1c-03d1ae062389",
   "metadata": {},
   "outputs": [
    {
     "name": "stdout",
     "output_type": "stream",
     "text": [
      "Grid Search Started...\n",
      "Fitting 5 folds for each of 36 candidates, totalling 180 fits\n"
     ]
    },
    {
     "data": {
      "text/html": [
       "<style>#sk-container-id-2 {color: black;}#sk-container-id-2 pre{padding: 0;}#sk-container-id-2 div.sk-toggleable {background-color: white;}#sk-container-id-2 label.sk-toggleable__label {cursor: pointer;display: block;width: 100%;margin-bottom: 0;padding: 0.3em;box-sizing: border-box;text-align: center;}#sk-container-id-2 label.sk-toggleable__label-arrow:before {content: \"▸\";float: left;margin-right: 0.25em;color: #696969;}#sk-container-id-2 label.sk-toggleable__label-arrow:hover:before {color: black;}#sk-container-id-2 div.sk-estimator:hover label.sk-toggleable__label-arrow:before {color: black;}#sk-container-id-2 div.sk-toggleable__content {max-height: 0;max-width: 0;overflow: hidden;text-align: left;background-color: #f0f8ff;}#sk-container-id-2 div.sk-toggleable__content pre {margin: 0.2em;color: black;border-radius: 0.25em;background-color: #f0f8ff;}#sk-container-id-2 input.sk-toggleable__control:checked~div.sk-toggleable__content {max-height: 200px;max-width: 100%;overflow: auto;}#sk-container-id-2 input.sk-toggleable__control:checked~label.sk-toggleable__label-arrow:before {content: \"▾\";}#sk-container-id-2 div.sk-estimator input.sk-toggleable__control:checked~label.sk-toggleable__label {background-color: #d4ebff;}#sk-container-id-2 div.sk-label input.sk-toggleable__control:checked~label.sk-toggleable__label {background-color: #d4ebff;}#sk-container-id-2 input.sk-hidden--visually {border: 0;clip: rect(1px 1px 1px 1px);clip: rect(1px, 1px, 1px, 1px);height: 1px;margin: -1px;overflow: hidden;padding: 0;position: absolute;width: 1px;}#sk-container-id-2 div.sk-estimator {font-family: monospace;background-color: #f0f8ff;border: 1px dotted black;border-radius: 0.25em;box-sizing: border-box;margin-bottom: 0.5em;}#sk-container-id-2 div.sk-estimator:hover {background-color: #d4ebff;}#sk-container-id-2 div.sk-parallel-item::after {content: \"\";width: 100%;border-bottom: 1px solid gray;flex-grow: 1;}#sk-container-id-2 div.sk-label:hover label.sk-toggleable__label {background-color: #d4ebff;}#sk-container-id-2 div.sk-serial::before {content: \"\";position: absolute;border-left: 1px solid gray;box-sizing: border-box;top: 0;bottom: 0;left: 50%;z-index: 0;}#sk-container-id-2 div.sk-serial {display: flex;flex-direction: column;align-items: center;background-color: white;padding-right: 0.2em;padding-left: 0.2em;position: relative;}#sk-container-id-2 div.sk-item {position: relative;z-index: 1;}#sk-container-id-2 div.sk-parallel {display: flex;align-items: stretch;justify-content: center;background-color: white;position: relative;}#sk-container-id-2 div.sk-item::before, #sk-container-id-2 div.sk-parallel-item::before {content: \"\";position: absolute;border-left: 1px solid gray;box-sizing: border-box;top: 0;bottom: 0;left: 50%;z-index: -1;}#sk-container-id-2 div.sk-parallel-item {display: flex;flex-direction: column;z-index: 1;position: relative;background-color: white;}#sk-container-id-2 div.sk-parallel-item:first-child::after {align-self: flex-end;width: 50%;}#sk-container-id-2 div.sk-parallel-item:last-child::after {align-self: flex-start;width: 50%;}#sk-container-id-2 div.sk-parallel-item:only-child::after {width: 0;}#sk-container-id-2 div.sk-dashed-wrapped {border: 1px dashed gray;margin: 0 0.4em 0.5em 0.4em;box-sizing: border-box;padding-bottom: 0.4em;background-color: white;}#sk-container-id-2 div.sk-label label {font-family: monospace;font-weight: bold;display: inline-block;line-height: 1.2em;}#sk-container-id-2 div.sk-label-container {text-align: center;}#sk-container-id-2 div.sk-container {/* jupyter's `normalize.less` sets `[hidden] { display: none; }` but bootstrap.min.css set `[hidden] { display: none !important; }` so we also need the `!important` here to be able to override the default hidden behavior on the sphinx rendered scikit-learn.org. See: https://github.com/scikit-learn/scikit-learn/issues/21755 */display: inline-block !important;position: relative;}#sk-container-id-2 div.sk-text-repr-fallback {display: none;}</style><div id=\"sk-container-id-2\" class=\"sk-top-container\"><div class=\"sk-text-repr-fallback\"><pre>GridSearchCV(cv=5, estimator=SVC(),\n",
       "             param_grid=[{&#x27;C&#x27;: [1, 10, 100, 1000], &#x27;kernel&#x27;: [&#x27;linear&#x27;]},\n",
       "                         {&#x27;C&#x27;: [1, 10, 100, 1000], &#x27;gamma&#x27;: [0.001, 0.0001],\n",
       "                          &#x27;kernel&#x27;: [&#x27;rbf&#x27;]},\n",
       "                         {&#x27;C&#x27;: [1, 10, 100, 1000], &#x27;degree&#x27;: [3, 4, 5],\n",
       "                          &#x27;gamma&#x27;: [0.001, 0.0001], &#x27;kernel&#x27;: [&#x27;rbf&#x27;]}],\n",
       "             scoring=&#x27;accuracy&#x27;, verbose=1)</pre><b>In a Jupyter environment, please rerun this cell to show the HTML representation or trust the notebook. <br />On GitHub, the HTML representation is unable to render, please try loading this page with nbviewer.org.</b></div><div class=\"sk-container\" hidden><div class=\"sk-item sk-dashed-wrapped\"><div class=\"sk-label-container\"><div class=\"sk-label sk-toggleable\"><input class=\"sk-toggleable__control sk-hidden--visually\" id=\"sk-estimator-id-2\" type=\"checkbox\" ><label for=\"sk-estimator-id-2\" class=\"sk-toggleable__label sk-toggleable__label-arrow\">GridSearchCV</label><div class=\"sk-toggleable__content\"><pre>GridSearchCV(cv=5, estimator=SVC(),\n",
       "             param_grid=[{&#x27;C&#x27;: [1, 10, 100, 1000], &#x27;kernel&#x27;: [&#x27;linear&#x27;]},\n",
       "                         {&#x27;C&#x27;: [1, 10, 100, 1000], &#x27;gamma&#x27;: [0.001, 0.0001],\n",
       "                          &#x27;kernel&#x27;: [&#x27;rbf&#x27;]},\n",
       "                         {&#x27;C&#x27;: [1, 10, 100, 1000], &#x27;degree&#x27;: [3, 4, 5],\n",
       "                          &#x27;gamma&#x27;: [0.001, 0.0001], &#x27;kernel&#x27;: [&#x27;rbf&#x27;]}],\n",
       "             scoring=&#x27;accuracy&#x27;, verbose=1)</pre></div></div></div><div class=\"sk-parallel\"><div class=\"sk-parallel-item\"><div class=\"sk-item\"><div class=\"sk-label-container\"><div class=\"sk-label sk-toggleable\"><input class=\"sk-toggleable__control sk-hidden--visually\" id=\"sk-estimator-id-3\" type=\"checkbox\" ><label for=\"sk-estimator-id-3\" class=\"sk-toggleable__label sk-toggleable__label-arrow\">estimator: SVC</label><div class=\"sk-toggleable__content\"><pre>SVC()</pre></div></div></div><div class=\"sk-serial\"><div class=\"sk-item\"><div class=\"sk-estimator sk-toggleable\"><input class=\"sk-toggleable__control sk-hidden--visually\" id=\"sk-estimator-id-4\" type=\"checkbox\" ><label for=\"sk-estimator-id-4\" class=\"sk-toggleable__label sk-toggleable__label-arrow\">SVC</label><div class=\"sk-toggleable__content\"><pre>SVC()</pre></div></div></div></div></div></div></div></div></div></div>"
      ],
      "text/plain": [
       "GridSearchCV(cv=5, estimator=SVC(),\n",
       "             param_grid=[{'C': [1, 10, 100, 1000], 'kernel': ['linear']},\n",
       "                         {'C': [1, 10, 100, 1000], 'gamma': [0.001, 0.0001],\n",
       "                          'kernel': ['rbf']},\n",
       "                         {'C': [1, 10, 100, 1000], 'degree': [3, 4, 5],\n",
       "                          'gamma': [0.001, 0.0001], 'kernel': ['rbf']}],\n",
       "             scoring='accuracy', verbose=1)"
      ]
     },
     "execution_count": 9,
     "metadata": {},
     "output_type": "execute_result"
    }
   ],
   "source": [
    "from sklearn.model_selection import GridSearchCV\n",
    "\n",
    "param_grid = [\n",
    "    {\"C\":[1, 10, 100, 1000], \"kernel\":[\"linear\"]},\n",
    "    {\"C\":[1, 10, 100, 1000], \"kernel\":[\"rbf\"], \"gamma\":[0.001, 0.0001]},\n",
    "    {\"C\":[1, 10, 100, 1000], \"kernel\":[\"rbf\"], \"gamma\":[0.001, 0.0001], \"degree\":[3, 4, 5]}\n",
    "]\n",
    "\n",
    "print(\"Grid Search Started...\")\n",
    "svm_classifier = SVC()\n",
    "grid_search = GridSearchCV(svm_classifier, param_grid, cv=5, scoring=\"accuracy\", verbose=1)\n",
    "grid_search.fit(X_train, y_train)"
   ]
  },
  {
   "cell_type": "code",
   "execution_count": 10,
   "id": "17e2b60a-0c8b-4ae9-9ab3-7d2308d5ec29",
   "metadata": {},
   "outputs": [
    {
     "name": "stdout",
     "output_type": "stream",
     "text": [
      "Best Parameter: {'C': 10, 'gamma': 0.001, 'kernel': 'rbf'}\n",
      "Best cross-validation score: 0.98\n"
     ]
    }
   ],
   "source": [
    "print(\"Best Parameter:\", grid_search.best_params_)\n",
    "print(\"Best cross-validation score: {:.2f}\".format(grid_search.best_score_))"
   ]
  },
  {
   "cell_type": "code",
   "execution_count": 11,
   "id": "d6bff7c5-c8ef-4ed3-83eb-2adf5cf24f68",
   "metadata": {},
   "outputs": [],
   "source": [
    "predicted_labels = grid_search.predict(X_test)"
   ]
  },
  {
   "cell_type": "code",
   "execution_count": 12,
   "id": "fc5d7d5a-ee44-47b9-bd9b-81df918c991c",
   "metadata": {},
   "outputs": [
    {
     "name": "stdout",
     "output_type": "stream",
     "text": [
      "Accuracy: 0.82\n",
      "              precision    recall  f1-score   support\n",
      "\n",
      "      NORMAL       0.97      0.53      0.69       234\n",
      "   PNEUMONIA       0.78      0.99      0.87       390\n",
      "\n",
      "    accuracy                           0.82       624\n",
      "   macro avg       0.87      0.76      0.78       624\n",
      "weighted avg       0.85      0.82      0.80       624\n",
      "\n"
     ]
    }
   ],
   "source": [
    "from sklearn.metrics import accuracy_score, classification_report\n",
    "\n",
    "accuracy = accuracy_score(y_test, predicted_labels)\n",
    "print(f\"Accuracy: {accuracy:.2f}\")\n",
    "\n",
    "report = classification_report(y_test, predicted_labels, target_names=labels)\n",
    "print(report)"
   ]
  },
  {
   "cell_type": "code",
   "execution_count": 20,
   "id": "75849248-11bb-4a3f-ba02-3574b7ea2117",
   "metadata": {},
   "outputs": [
    {
     "name": "stdout",
     "output_type": "stream",
     "text": [
      "Model created successfully for 1D input data.\n"
     ]
    }
   ],
   "source": [
    "import tensorflow as tf\n",
    "from tensorflow.keras import layers\n",
    "\n",
    "deep_model = tf.keras.models.Sequential([\n",
    "    layers.Input(shape=(1664,)),  # Input layer \n",
    "    layers.Dense(1024, activation='relu'),  # Dense layer with 1024 neurons\n",
    "    layers.BatchNormalization(),  # Batch normalization\n",
    "    layers.Dropout(0.3),  # Dropout for regularization\n",
    "\n",
    "    layers.Dense(512, activation='relu'),  # Dense layer\n",
    "    layers.BatchNormalization(),  # Batch normalization\n",
    "    layers.Dropout(0.3),  # Dropout for regularization\n",
    "\n",
    "    layers.Dense(256, activation='relu'),  # Dense layer\n",
    "    layers.BatchNormalization(),  # Batch normalization\n",
    "    layers.Dropout(0.3),  # Dropout for regularization\n",
    "\n",
    "    layers.Dense(128, activation='relu'),  # Dense layer\n",
    "    layers.BatchNormalization(),  # Batch normalization\n",
    "    layers.Dropout(0.3),  # Dropout for regularization\n",
    "\n",
    "    layers.Dense(1, activation='sigmoid')  # Output layer\n",
    "])\n",
    "\n",
    "print(\"Model created successfully.\")"
   ]
  },
  {
   "cell_type": "code",
   "execution_count": 21,
   "id": "79f0ca64-3dba-4a9f-8dab-b545f9291cc2",
   "metadata": {},
   "outputs": [
    {
     "name": "stdout",
     "output_type": "stream",
     "text": [
      "Training...\n",
      "(5216, 1664) (5216,)\n",
      "\u001b[1m163/163\u001b[0m \u001b[32m━━━━━━━━━━━━━━━━━━━━\u001b[0m\u001b[37m\u001b[0m \u001b[1m2s\u001b[0m 6ms/step - accuracy: 0.8823 - loss: 0.3110\n"
     ]
    },
    {
     "data": {
      "text/plain": [
       "<keras.src.callbacks.history.History at 0x2f5847c40>"
      ]
     },
     "execution_count": 21,
     "metadata": {},
     "output_type": "execute_result"
    }
   ],
   "source": [
    "print(\"Training...\")\n",
    "deep_model.compile(\n",
    "    loss='binary_crossentropy',\n",
    "    optimizer='adam',\n",
    "    metrics=['accuracy']\n",
    ")\n",
    "\n",
    "print(X_train.shape, y_train.shape)\n",
    "deep_model.fit(X_train, y_train)\n",
    "print(\"Deep NN trained successfully\")"
   ]
  },
  {
   "cell_type": "code",
   "execution_count": 22,
   "id": "f23b2827-83bc-4eed-ad3f-9d38ebe72449",
   "metadata": {},
   "outputs": [
    {
     "name": "stdout",
     "output_type": "stream",
     "text": [
      "\u001b[1m20/20\u001b[0m \u001b[32m━━━━━━━━━━━━━━━━━━━━\u001b[0m\u001b[37m\u001b[0m \u001b[1m0s\u001b[0m 3ms/step\n"
     ]
    }
   ],
   "source": [
    "predicted_labels = deep_model.predict(X_test)"
   ]
  },
  {
   "cell_type": "code",
   "execution_count": 17,
   "id": "234ea2ca-410b-4bad-b3e0-3cd041ffb9f4",
   "metadata": {},
   "outputs": [
    {
     "name": "stdout",
     "output_type": "stream",
     "text": [
      "Accuracy: 0.87\n",
      "              precision    recall  f1-score   support\n",
      "\n",
      "      Normal       0.92      0.72      0.81       234\n",
      "   Pneumonia       0.85      0.96      0.90       390\n",
      "\n",
      "    accuracy                           0.87       624\n",
      "   macro avg       0.89      0.84      0.86       624\n",
      "weighted avg       0.88      0.87      0.87       624\n",
      "\n"
     ]
    }
   ],
   "source": [
    "predicted_labels = np.rint(predicted_labels).astype(int)\n",
    "\n",
    "from sklearn.metrics import accuracy_score, classification_report\n",
    "\n",
    "accuracy = accuracy_score(y_test, predicted_labels)\n",
    "print(f\"Accuracy: {accuracy:.2f}\")\n",
    "\n",
    "report = classification_report(y_test, predicted_labels, target_names=['Normal', 'Pneumonia'])\n",
    "print(report)"
   ]
  },
  {
   "cell_type": "code",
   "execution_count": 23,
   "id": "803e6f24-e2f1-488c-a7b9-36923eec8714",
   "metadata": {},
   "outputs": [
    {
     "name": "stdout",
     "output_type": "stream",
     "text": [
      "\u001b[1m20/20\u001b[0m \u001b[32m━━━━━━━━━━━━━━━━━━━━\u001b[0m\u001b[37m\u001b[0m \u001b[1m0s\u001b[0m 2ms/step \n"
     ]
    }
   ],
   "source": [
    "# combining models by averaging probabilities\n",
    "\n",
    "prob_svm = svm_classifier.predict_proba(X_test)[:, 1]  \n",
    "prob_nn = deep_model.predict(X_test).flatten()\n",
    "\n",
    "average_prob = (prob_svm + prob_nn) / 2\n",
    "predictions = (average_prob > 0.5).astype(int)"
   ]
  },
  {
   "cell_type": "code",
   "execution_count": 25,
   "id": "1baaeadd-bdcc-475b-b999-906c026d04b7",
   "metadata": {},
   "outputs": [
    {
     "name": "stdout",
     "output_type": "stream",
     "text": [
      "Accuracy: 0.82\n",
      "              precision    recall  f1-score   support\n",
      "\n",
      "      Normal       0.96      0.53      0.69       234\n",
      "   Pneumonia       0.78      0.99      0.87       390\n",
      "\n",
      "    accuracy                           0.82       624\n",
      "   macro avg       0.87      0.76      0.78       624\n",
      "weighted avg       0.85      0.82      0.80       624\n",
      "\n"
     ]
    }
   ],
   "source": [
    "from sklearn.metrics import accuracy_score, classification_report\n",
    "\n",
    "accuracy = accuracy_score(y_test, predictions)\n",
    "print(f\"Accuracy: {accuracy:.2f}\")\n",
    "\n",
    "report = classification_report(y_test, predictions, target_names=['Normal', 'Pneumonia'])\n",
    "print(report)"
   ]
  },
  {
   "cell_type": "code",
   "execution_count": 29,
   "id": "40d4aa41-3dc0-45ba-aa9c-3faf0003e0aa",
   "metadata": {},
   "outputs": [
    {
     "name": "stdout",
     "output_type": "stream",
     "text": [
      "\u001b[1m20/20\u001b[0m \u001b[32m━━━━━━━━━━━━━━━━━━━━\u001b[0m\u001b[37m\u001b[0m \u001b[1m0s\u001b[0m 2ms/step \n"
     ]
    }
   ],
   "source": [
    "from sklearn.linear_model import LogisticRegression\n",
    "\n",
    "stacked_features = np.column_stack((prob_svm, prob_nn))\n",
    "\n",
    "meta_model = LogisticRegression()\n",
    "meta_model.fit(stacked_features, y_test)\n",
    "\n",
    "test_prob_svm = svm_classifier.predict_proba(X_test)[:, 1]\n",
    "test_prob_nn = deep_model.predict(X_test).flatten()\n",
    "\n",
    "test_stacked_features = np.column_stack((test_prob_svm, test_prob_nn))\n",
    "\n",
    "final_predictions = meta_model.predict(test_stacked_features)"
   ]
  },
  {
   "cell_type": "code",
   "execution_count": 30,
   "id": "0a92c887-b620-4592-bdd4-2854fcc8c6c3",
   "metadata": {},
   "outputs": [
    {
     "name": "stdout",
     "output_type": "stream",
     "text": [
      "Accuracy: 0.87\n",
      "              precision    recall  f1-score   support\n",
      "\n",
      "      Normal       0.95      0.68      0.80       234\n",
      "   Pneumonia       0.84      0.98      0.90       390\n",
      "\n",
      "    accuracy                           0.87       624\n",
      "   macro avg       0.90      0.83      0.85       624\n",
      "weighted avg       0.88      0.87      0.86       624\n",
      "\n"
     ]
    }
   ],
   "source": [
    "from sklearn.metrics import accuracy_score, classification_report\n",
    "\n",
    "accuracy = accuracy_score(y_test, final_predictions)\n",
    "print(f\"Accuracy: {accuracy:.2f}\")\n",
    "\n",
    "report = classification_report(y_test, final_predictions, target_names=['Normal', 'Pneumonia'])\n",
    "print(report)"
   ]
  },
  {
   "cell_type": "code",
   "execution_count": null,
   "id": "211cc815-10ce-4a07-bd74-3a021867e5f3",
   "metadata": {},
   "outputs": [],
   "source": []
  }
 ],
 "metadata": {
  "kernelspec": {
   "display_name": "Python 3 (ipykernel)",
   "language": "python",
   "name": "python3"
  },
  "language_info": {
   "codemirror_mode": {
    "name": "ipython",
    "version": 3
   },
   "file_extension": ".py",
   "mimetype": "text/x-python",
   "name": "python",
   "nbconvert_exporter": "python",
   "pygments_lexer": "ipython3",
   "version": "3.9.13"
  }
 },
 "nbformat": 4,
 "nbformat_minor": 5
}
